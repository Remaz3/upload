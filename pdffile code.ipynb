{
 "cells": [
  {
   "cell_type": "code",
   "execution_count": 1,
   "id": "79ed7688",
   "metadata": {},
   "outputs": [
    {
     "name": "stdout",
     "output_type": "stream",
     "text": [
      "Defaulting to user installation because normal site-packages is not writeable\n",
      "Collecting pdfplumber\n",
      "  Downloading pdfplumber-0.11.2-py3-none-any.whl (58 kB)\n",
      "     -------------------------------------- 58.0/58.0 kB 508.3 kB/s eta 0:00:00\n",
      "Collecting pypdfium2>=4.18.0\n",
      "  Downloading pypdfium2-4.30.0-py3-none-win_amd64.whl (2.9 MB)\n",
      "     ---------------------------------------- 2.9/2.9 MB 665.9 kB/s eta 0:00:00\n",
      "Collecting pdfminer.six==20231228\n",
      "  Downloading pdfminer.six-20231228-py3-none-any.whl (5.6 MB)\n",
      "     ---------------------------------------- 5.6/5.6 MB 1.3 MB/s eta 0:00:00\n",
      "Requirement already satisfied: Pillow>=9.1 in c:\\programdata\\anaconda3\\lib\\site-packages (from pdfplumber) (9.2.0)\n",
      "Requirement already satisfied: cryptography>=36.0.0 in c:\\programdata\\anaconda3\\lib\\site-packages (from pdfminer.six==20231228->pdfplumber) (37.0.1)\n",
      "Requirement already satisfied: charset-normalizer>=2.0.0 in c:\\programdata\\anaconda3\\lib\\site-packages (from pdfminer.six==20231228->pdfplumber) (2.0.4)\n",
      "Requirement already satisfied: cffi>=1.12 in c:\\programdata\\anaconda3\\lib\\site-packages (from cryptography>=36.0.0->pdfminer.six==20231228->pdfplumber) (1.15.1)\n",
      "Requirement already satisfied: pycparser in c:\\programdata\\anaconda3\\lib\\site-packages (from cffi>=1.12->cryptography>=36.0.0->pdfminer.six==20231228->pdfplumber) (2.21)\n",
      "Installing collected packages: pypdfium2, pdfminer.six, pdfplumber\n",
      "Successfully installed pdfminer.six-20231228 pdfplumber-0.11.2 pypdfium2-4.30.0\n",
      "Note: you may need to restart the kernel to use updated packages.\n"
     ]
    },
    {
     "name": "stderr",
     "output_type": "stream",
     "text": [
      "  WARNING: The script pypdfium2.exe is installed in 'C:\\Users\\PC\\AppData\\Roaming\\Python\\Python39\\Scripts' which is not on PATH.\n",
      "  Consider adding this directory to PATH or, if you prefer to suppress this warning, use --no-warn-script-location.\n",
      "  WARNING: The script pdfplumber.exe is installed in 'C:\\Users\\PC\\AppData\\Roaming\\Python\\Python39\\Scripts' which is not on PATH.\n",
      "  Consider adding this directory to PATH or, if you prefer to suppress this warning, use --no-warn-script-location.\n"
     ]
    }
   ],
   "source": [
    "pip install pdfplumber"
   ]
  },
  {
   "cell_type": "code",
   "execution_count": 2,
   "id": "6a105a9c",
   "metadata": {},
   "outputs": [
    {
     "name": "stdout",
     "output_type": "stream",
     "text": [
      "pygame 2.6.0 (SDL 2.28.4, Python 3.9.13)\n",
      "Hello from the pygame community. https://www.pygame.org/contribute.html\n"
     ]
    }
   ],
   "source": [
    "import tkinter as tk\n",
    "from tkinter import filedialog\n",
    "from gtts import gTTS\n",
    "import pygame\n",
    "import time\n",
    "import pdfplumber\n",
    "\n",
    "# Initialize pygame mixer\n",
    "pygame.mixer.init()\n",
    "\n",
    "# Function to read the PDF and extract text using pdfplumber\n",
    "def read_pdf(file_path):\n",
    "    text = \"\"\n",
    "    with pdfplumber.open(file_path) as pdf:\n",
    "        for page in pdf.pages:\n",
    "            text += page.extract_text()\n",
    "    return text\n",
    "\n",
    "\n",
    "# Function to create questions and answers from the PDF text\n",
    "def create_questions(text):\n",
    "    questions_and_answers = []\n",
    "    lines = text.split('\\n')\n",
    "    for line in lines:\n",
    "        if line.strip():  # If the line is not empty\n",
    "            questions_and_answers.append((f\"What is the following text: '{line.strip()}'?\", line.strip()))\n",
    "            if len(questions_and_answers) >= 5:  # Limit the number of questions for simplicity\n",
    "                break\n",
    "    return questions_and_answers\n",
    "\n",
    "# Function to convert text to speech\n",
    "def text_to_speech(text, save_path):\n",
    "    tts = gTTS(text=text, lang='en')\n",
    "    tts.save(save_path)\n",
    "\n",
    "# Function to play sound using pygame\n",
    "def play_sound(file_path):\n",
    "    pygame.mixer.music.load(file_path)\n",
    "    pygame.mixer.music.play()\n",
    "    while pygame.mixer.music.get_busy():\n",
    "        time.sleep(0.1)\n",
    "\n",
    "# Function to create and run the quiz\n",
    "def run_quiz(questions_and_answers):\n",
    "    def next_question():\n",
    "        nonlocal current_question\n",
    "        current_question += 1\n",
    "        if current_question < len(questions_and_answers):\n",
    "            question_text = questions_and_answers[current_question][0]\n",
    "            answer_text = questions_and_answers[current_question][1]\n",
    "            question.set(question_text)\n",
    "            text_to_speech(question_text, \"question.mp3\")\n",
    "            play_sound(\"question.mp3\")\n",
    "            time.sleep(4)  # Wait for 4 seconds before saying the answer\n",
    "            text_to_speech(answer_text, \"answer.mp3\")\n",
    "            play_sound(\"answer.mp3\")\n",
    "            quiz_window.after(4000, next_question)  # Move to the next question after 4 seconds\n",
    "        else:\n",
    "            question.set(\"Quiz finished\")\n",
    "\n",
    "    current_question = -1\n",
    "\n",
    "    # Creating the quiz window\n",
    "    quiz_window = tk.Tk()\n",
    "    quiz_window.title(\"PDF Quiz\")\n",
    "    \n",
    "    question = tk.StringVar()\n",
    "    tk.Label(quiz_window, textvariable=question, wraplength=400).pack(pady=10)\n",
    "    \n",
    "    next_question()\n",
    "    \n",
    "    quiz_window.mainloop()\n",
    "\n",
    "# Function to handle file upload\n",
    "def upload_file():\n",
    "    file_path = filedialog.askopenfilename(filetypes=[(\"PDF files\", \"*.pdf\")])\n",
    "    if file_path:\n",
    "        pdf_text = read_pdf(file_path)\n",
    "        questions_and_answers = create_questions(pdf_text)\n",
    "        if questions_and_answers:\n",
    "            run_quiz(questions_and_answers)\n",
    "        else:\n",
    "            print(\"No text found to create questions\")\n",
    "\n",
    "# Creating the main window\n",
    "root = tk.Tk()\n",
    "root.title(\"Upload PDF File\")\n",
    "\n",
    "upload_button = tk.Button(root, text=\"Upload PDF File\", command=upload_file)\n",
    "upload_button.pack(pady=20)\n",
    "\n",
    "root.mainloop()"
   ]
  },
  {
   "cell_type": "code",
   "execution_count": 3,
   "id": "c1d2bc04",
   "metadata": {},
   "outputs": [],
   "source": [
    "exit\n"
   ]
  },
  {
   "cell_type": "code",
   "execution_count": null,
   "id": "c4a12f02",
   "metadata": {},
   "outputs": [],
   "source": []
  }
 ],
 "metadata": {
  "kernelspec": {
   "display_name": "Python 3 (ipykernel)",
   "language": "python",
   "name": "python3"
  },
  "language_info": {
   "codemirror_mode": {
    "name": "ipython",
    "version": 3
   },
   "file_extension": ".py",
   "mimetype": "text/x-python",
   "name": "python",
   "nbconvert_exporter": "python",
   "pygments_lexer": "ipython3",
   "version": "3.9.13"
  }
 },
 "nbformat": 4,
 "nbformat_minor": 5
}
